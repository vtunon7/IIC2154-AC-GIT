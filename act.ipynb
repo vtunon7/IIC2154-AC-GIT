{
 "cells": [
  {
   "cell_type": "markdown",
   "metadata": {},
   "source": [
    "Primero importamos las librerias a utilizar"
   ]
  },
  {
   "cell_type": "code",
   "execution_count": 2,
   "metadata": {},
   "outputs": [],
   "source": [
    "from enum import unique\n",
    "import re\n",
    "import json\n",
    "import pandas as pd\n",
    "from collections import Counter"
   ]
  },
  {
   "cell_type": "markdown",
   "metadata": {},
   "source": [
    "Leemos el archivo y lo pasamos a un diccionario"
   ]
  },
  {
   "cell_type": "code",
   "execution_count": 3,
   "metadata": {},
   "outputs": [],
   "source": [
    "file = open('./farmers-protest-tweets-2021-03-5.json')\n",
    "lista = []\n",
    "for i in file:\n",
    "    data = json.loads(i)\n",
    "    lista.append(data)\n",
    "tweets = {}\n",
    "tweets['tweets'] = lista\n",
    "\n",
    "file.close()"
   ]
  },
  {
   "cell_type": "markdown",
   "metadata": {},
   "source": [
    "Creamos la función `top10_retweeted()` para ver los 10 tweets mas retweeteados"
   ]
  },
  {
   "cell_type": "code",
   "execution_count": 27,
   "metadata": {},
   "outputs": [
    {
     "name": "stdout",
     "output_type": "stream",
     "text": [
      "Top 10 tweets mas retweeted\n",
      "\n",
      "1) rihanna: why aren’t we talking about this?! #FarmersProtest https://t.co/obmIlXhK9S\n",
      "2) GretaThunberg: We stand in solidarity with the #FarmersProtest in India.\n",
      " https://t.co/tqvR0oHgo0\n",
      "3) GretaThunberg: I still #StandWithFarmers and support their peaceful protest.\n",
      "No amount of hate, threats or violations of human rights will ever change that. #FarmersProtest\n",
      "4) miakhalifa: “Paid actors,” huh? Quite the casting director, I hope they’re not overlooked during awards season. I stand with the farmers. #FarmersProtest https://t.co/moONj03tN0\n",
      "5) miakhalifa: What in the human rights violations is going on?! They cut the internet around New Delhi?! #FarmersProtest https://t.co/a5ml1P2ikU\n",
      "6) TeamJuJu: Happy to share that I’ve donated $10,000 to provide medical assistance to the farmers in need in India to help save lives during these times. I hope we can prevent any additional life from being lost. 🙏🏾 #FarmersProtest https://t.co/0WoEw0l3ij\n",
      "7) BobBlackman: There has been much social media coverage around the #FarmersProtest in #India. Very useful guide to the legislation and the impact on farmers. 1/2 https://t.co/3CsdgBebdZ\n",
      "8) vanessa_vash: Farmers feed the world. Fight for them. Protect them #FarmersProtest\n",
      "9) kylekuzma: Should be talking about this! #FarmersProtest\n",
      "\n",
      "https://t.co/Xh09iTvVoF\n",
      "10) AmandaCerny: To all of my influencer/celeb friends- read up on this   #FarmersProtest 👀\n",
      "\n",
      "Fin Top 10 tweets con más retweets\n",
      "\n"
     ]
    }
   ],
   "source": [
    "def top10_retweeted():\n",
    "    res = sorted(tweets['tweets'], key = lambda x: x['retweetCount'], reverse = True)[:10]\n",
    "    count = 1\n",
    "    print('Top 10 tweets mas retweeted\\n')\n",
    "    for i in res:\n",
    "        print(f\"{count}) {i['user']['username']}: {i['content']}\")\n",
    "        count += 1\n",
    "    print('\\nFin Top 10 tweets con más retweets\\n')\n",
    "\n",
    "top10_retweeted()"
   ]
  },
  {
   "cell_type": "markdown",
   "metadata": {},
   "source": [
    "Creamos la función `top10_user_tweets()` para ver los 10 usuarios con más tweets"
   ]
  },
  {
   "cell_type": "code",
   "execution_count": 28,
   "metadata": {},
   "outputs": [
    {
     "name": "stdout",
     "output_type": "stream",
     "text": [
      "Top 10 usuarios con más tweets\n",
      "\n",
      "1) threadreaderapp 1762461\n",
      "2) GeorgekurianINC 1711890\n",
      "3) CyberAnonymous 1435641\n",
      "4) unbiased100 1027493\n",
      "5) pavan_sethi 1015822\n",
      "6) animesh1977 974774\n",
      "7) CNBCTV18Live 944150\n",
      "8) htTweets 867974\n",
      "9) CNNnews18 863754\n",
      "10) IndiaToday 851154\n",
      "\n",
      "Fin Top 10 usuarios con más tweets\n",
      "\n"
     ]
    }
   ],
   "source": [
    "def top10_user_tweets():\n",
    "    print('Top 10 usuarios con más tweets\\n')\n",
    "    count2 = 1\n",
    "    filtrados = list({i['user']['id']:i for i in tweets['tweets']}.values())\n",
    "    res3 = sorted(filtrados, key = lambda x: x['user']['statusesCount'], reverse = True)[:10]\n",
    "    for i in res3:\n",
    "        print(f\"{count2}) {i['user']['username']} {i['user']['statusesCount']}\")\n",
    "        count2 += 1\n",
    "    print('\\nFin Top 10 usuarios con más tweets\\n')\n",
    "\n",
    "top10_user_tweets()"
   ]
  },
  {
   "cell_type": "markdown",
   "metadata": {},
   "source": [
    "Creamos las función `top10_days_tweets()` para ver los 10 días en que más se tweetió"
   ]
  },
  {
   "cell_type": "code",
   "execution_count": 29,
   "metadata": {},
   "outputs": [
    {
     "name": "stdout",
     "output_type": "stream",
     "text": [
      "Top 10 dias con más tweets\n",
      "\n",
      "1) 2021-02-03: 83866 tweets\n",
      "2) 2021-02-04: 58607 tweets\n",
      "3) 2021-02-05: 33332 tweets\n",
      "4) 2021-02-02: 28548 tweets\n",
      "5) 2021-02-06: 22420 tweets\n",
      "6) 2021-02-07: 11325 tweets\n",
      "7) 2021-02-09: 9320 tweets\n",
      "8) 2021-02-08: 8920 tweets\n",
      "9) 2021-02-10: 7973 tweets\n",
      "10) 2021-02-11: 5698 tweets\n",
      "\n",
      "Fin Top 10 dias con más tweets\n",
      "\n"
     ]
    }
   ],
   "source": [
    "def top10_days_tweets():\n",
    "    print('Top 10 dias con más tweets\\n')\n",
    "    lista_dias = []\n",
    "    for i in tweets['tweets']:\n",
    "        dia = i['date'][:10]\n",
    "        lista_dias.append(dia)\n",
    "    dias = Counter(lista_dias)\n",
    "    cont = 1\n",
    "    for i, j in dias.most_common(10):\n",
    "        print(f\"{cont}) {i}: {j} tweets\")\n",
    "        cont += 1\n",
    "    print('\\nFin Top 10 dias con más tweets\\n')\n",
    "\n",
    "top10_days_tweets()"
   ]
  },
  {
   "cell_type": "markdown",
   "metadata": {},
   "source": [
    "Creamos la función `top10_hashtags()` para ver los 10 hashtags más utilizados"
   ]
  },
  {
   "cell_type": "code",
   "execution_count": 30,
   "metadata": {},
   "outputs": [
    {
     "name": "stdout",
     "output_type": "stream",
     "text": [
      "Top 10 hashtags\n",
      "\n",
      "1) #FarmersProtest: 406613\n",
      "2) #IStandWithFarmers: 15783\n",
      "3) #farmersprotest: 15458\n",
      "4) #IndianFarmersHumanRights: 12019\n",
      "5) #FarmersAreIndia: 11043\n",
      "6) #StandWithFarmers: 10645\n",
      "7) #Rihanna: 9117\n",
      "8) #FarmersProtests: 8750\n",
      "9) #Farmers: 6561\n",
      "10) #shameonbollywood: 6270\n",
      "\n",
      "Fin Top 10 hashtags\n",
      "\n"
     ]
    }
   ],
   "source": [
    "def top10_hashtags():\n",
    "    print('Top 10 hashtags\\n')\n",
    "    lista_hash = []\n",
    "    for i in tweets['tweets']:\n",
    "        tweet = i['content']\n",
    "        x = re.findall(r\"#(\\w+)\", tweet)\n",
    "        lista_hash.append(x)\n",
    "\n",
    "    lista_hash2 = []\n",
    "    for i in lista_hash:\n",
    "        for j in i:\n",
    "            lista_hash2.append(j)\n",
    "\n",
    "    cont = 1\n",
    "    hashtags = Counter(lista_hash2)\n",
    "    for i, j in hashtags.most_common(10):\n",
    "        print(f\"{cont}) #{i}: {j}\")\n",
    "        cont += 1\n",
    "    print('\\nFin Top 10 hashtags\\n')\n",
    "\n",
    "top10_hashtags()"
   ]
  },
  {
   "cell_type": "markdown",
   "metadata": {},
   "source": [
    "Creamos la función `main()` que permite llamar a cualquiera de las 4 funciones"
   ]
  },
  {
   "cell_type": "code",
   "execution_count": 31,
   "metadata": {},
   "outputs": [
    {
     "name": "stdout",
     "output_type": "stream",
     "text": [
      "Top 10 tweets mas retweeted\n",
      "\n",
      "1) rihanna: why aren’t we talking about this?! #FarmersProtest https://t.co/obmIlXhK9S\n",
      "2) GretaThunberg: We stand in solidarity with the #FarmersProtest in India.\n",
      " https://t.co/tqvR0oHgo0\n",
      "3) GretaThunberg: I still #StandWithFarmers and support their peaceful protest.\n",
      "No amount of hate, threats or violations of human rights will ever change that. #FarmersProtest\n",
      "4) miakhalifa: “Paid actors,” huh? Quite the casting director, I hope they’re not overlooked during awards season. I stand with the farmers. #FarmersProtest https://t.co/moONj03tN0\n",
      "5) miakhalifa: What in the human rights violations is going on?! They cut the internet around New Delhi?! #FarmersProtest https://t.co/a5ml1P2ikU\n",
      "6) TeamJuJu: Happy to share that I’ve donated $10,000 to provide medical assistance to the farmers in need in India to help save lives during these times. I hope we can prevent any additional life from being lost. 🙏🏾 #FarmersProtest https://t.co/0WoEw0l3ij\n",
      "7) BobBlackman: There has been much social media coverage around the #FarmersProtest in #India. Very useful guide to the legislation and the impact on farmers. 1/2 https://t.co/3CsdgBebdZ\n",
      "8) vanessa_vash: Farmers feed the world. Fight for them. Protect them #FarmersProtest\n",
      "9) kylekuzma: Should be talking about this! #FarmersProtest\n",
      "\n",
      "https://t.co/Xh09iTvVoF\n",
      "10) AmandaCerny: To all of my influencer/celeb friends- read up on this   #FarmersProtest 👀\n",
      "\n",
      "Fin Top 10 tweets con más retweets\n",
      "\n",
      "Top 10 usuarios con más tweets\n",
      "\n",
      "1) threadreaderapp 1762461\n",
      "2) GeorgekurianINC 1711890\n",
      "3) CyberAnonymous 1435641\n",
      "4) unbiased100 1027493\n",
      "5) pavan_sethi 1015822\n",
      "6) animesh1977 974774\n",
      "7) CNBCTV18Live 944150\n",
      "8) htTweets 867974\n",
      "9) CNNnews18 863754\n",
      "10) IndiaToday 851154\n",
      "\n",
      "Fin Top 10 usuarios con más tweets\n",
      "\n",
      "Top 10 dias con más tweets\n",
      "\n",
      "1) 2021-02-03: 83866 tweets\n",
      "2) 2021-02-04: 58607 tweets\n",
      "3) 2021-02-05: 33332 tweets\n",
      "4) 2021-02-02: 28548 tweets\n",
      "5) 2021-02-06: 22420 tweets\n",
      "6) 2021-02-07: 11325 tweets\n",
      "7) 2021-02-09: 9320 tweets\n",
      "8) 2021-02-08: 8920 tweets\n",
      "9) 2021-02-10: 7973 tweets\n",
      "10) 2021-02-11: 5698 tweets\n",
      "\n",
      "Fin Top 10 dias con más tweets\n",
      "\n",
      "Top 10 hashtags\n",
      "\n",
      "1) #FarmersProtest: 406613\n",
      "2) #IStandWithFarmers: 15783\n",
      "3) #farmersprotest: 15458\n",
      "4) #IndianFarmersHumanRights: 12019\n",
      "5) #FarmersAreIndia: 11043\n",
      "6) #StandWithFarmers: 10645\n",
      "7) #Rihanna: 9117\n",
      "8) #FarmersProtests: 8750\n",
      "9) #Farmers: 6561\n",
      "10) #shameonbollywood: 6270\n",
      "\n",
      "Fin Top 10 hashtags\n",
      "\n"
     ]
    }
   ],
   "source": [
    "def main():\n",
    "    top10_retweeted()\n",
    "    top10_user_tweets()\n",
    "    top10_days_tweets()\n",
    "    top10_hashtags()\n",
    "\n",
    "if __name__ == \"__main__\":\n",
    "    main()\n",
    "    "
   ]
  }
 ],
 "metadata": {
  "interpreter": {
   "hash": "916dbcbb3f70747c44a77c7bcd40155683ae19c65e1c03b4aa3499c5328201f1"
  },
  "kernelspec": {
   "display_name": "Python 3.8.10 64-bit",
   "language": "python",
   "name": "python3"
  },
  "language_info": {
   "codemirror_mode": {
    "name": "ipython",
    "version": 3
   },
   "file_extension": ".py",
   "mimetype": "text/x-python",
   "name": "python",
   "nbconvert_exporter": "python",
   "pygments_lexer": "ipython3",
   "version": "3.8.10"
  },
  "orig_nbformat": 4
 },
 "nbformat": 4,
 "nbformat_minor": 2
}
